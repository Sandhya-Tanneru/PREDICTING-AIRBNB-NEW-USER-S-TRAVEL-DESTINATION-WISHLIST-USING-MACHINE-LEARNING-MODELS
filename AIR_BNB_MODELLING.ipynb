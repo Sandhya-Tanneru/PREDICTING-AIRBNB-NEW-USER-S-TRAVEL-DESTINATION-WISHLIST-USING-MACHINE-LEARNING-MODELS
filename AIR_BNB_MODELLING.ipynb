{
  "cells": [
    {
      "cell_type": "code",
      "execution_count": 4,
      "metadata": {
        "id": "milfJPqdkOWj"
      },
      "outputs": [],
      "source": [
        "#Importing necessary Python Libraries.\n",
        "import warnings\n",
        "warnings.filterwarnings(\"ignore\")\n",
        "\n",
        "import pandas as pd\n",
        "import matplotlib.pyplot as plt\n",
        "import seaborn as sns\n",
        "import numpy as np\n",
        "import pickle\n",
        "from scipy import sparse\n",
        "from scipy.sparse import hstack"
      ]
    },
    {
      "cell_type": "markdown",
      "source": [
        "**SCORING FUNCTION**"
      ],
      "metadata": {
        "id": "g9nbT8KhK6fR"
      }
    },
    {
      "cell_type": "code",
      "execution_count": 5,
      "metadata": {
        "id": "sqlEozESkTkK"
      },
      "outputs": [],
      "source": [
        "#https://www.kaggle.com/davidgasquez/ndcg-scorer\n",
        "\n",
        "from sklearn.preprocessing import LabelBinarizer\n",
        "from sklearn.metrics import make_scorer\n",
        "\n",
        "def dcg_score(y_true, y_score, k=5):\n",
        "    \"\"\" \n",
        "    Calculating Discounted cumulative gain (DCG) at rank K.\n",
        "\n",
        "    \"\"\"\n",
        "    order = np.argsort(y_score)[::-1]\n",
        "    y_true = np.take(y_true, order[:k])\n",
        "    gain = 2 ** y_true - 1\n",
        "\n",
        "    discounts = np.log2(np.arange(len(y_true)) + 2)\n",
        "    return np.sum(gain / discounts)\n",
        "\n",
        "\n",
        "def ndcg_score(te_labels, predict, k):       \n",
        "    \"\"\"\n",
        "    Calculating Normalized discounted cumulative gain (NDCG) at rank K.\n",
        "  \n",
        "    \"\"\"\n",
        "\n",
        "    lb = LabelBinarizer()\n",
        "    lb.fit(range(len(predict) + 1))\n",
        "    T = lb.transform(te_labels)\n",
        "\n",
        "    scores = []\n",
        "\n",
        "    # Iterate over each y_true and compute the DCG score\n",
        "    for y_true, y_score in zip(T, predict):\n",
        "        actual = dcg_score(y_true, y_score, k)\n",
        "        best = dcg_score(y_true, y_true, k)\n",
        "        if best == 0:\n",
        "            best = 0.000000001\n",
        "        score = float(actual) / float(best)\n",
        "        scores.append(score)\n",
        "    return np.mean(scores)\n",
        "\n",
        "\n",
        "# NDCG Scorer function\n",
        "ndcg_scorer = make_scorer(ndcg_score, needs_proba=True, k=5)"
      ]
    },
    {
      "cell_type": "markdown",
      "source": [
        "**FUNCTION FOR REDUCING THE MEMORY USAGE**"
      ],
      "metadata": {
        "id": "dRhV0i3OLRI5"
      }
    },
    {
      "cell_type": "code",
      "execution_count": 6,
      "metadata": {
        "id": "QC6-NqUqkVjq"
      },
      "outputs": [],
      "source": [
        "#https://www.kaggle.com/gemartin/load-data-reduce-memory-usage\n",
        "def reduce_mem_usage(df):\n",
        "    \n",
        "    \"\"\" \n",
        "    Function that iterates through all the columns of a dataframe and modify the data type\n",
        "        to reduce memory usage.        \n",
        "    \n",
        "    \"\"\"\n",
        "    start_mem = df.memory_usage().sum() / 1024**2\n",
        "    print('Memory usage of dataframe is {:.2f} MB'.format(start_mem))\n",
        "    \n",
        "    for col in df.columns:\n",
        "        col_type = df[col].dtype\n",
        "        \n",
        "        if col_type != object:\n",
        "            c_min = df[col].min()\n",
        "            c_max = df[col].max()\n",
        "            if str(col_type)[:3] == 'int':\n",
        "                if c_min > np.iinfo(np.int8).min and c_max < np.iinfo(np.int8).max:\n",
        "                    df[col] = df[col].astype(np.int8)\n",
        "                elif c_min > np.iinfo(np.int16).min and c_max < np.iinfo(np.int16).max:\n",
        "                    df[col] = df[col].astype(np.int16)\n",
        "                elif c_min > np.iinfo(np.int32).min and c_max < np.iinfo(np.int32).max:\n",
        "                    df[col] = df[col].astype(np.int32)\n",
        "                elif c_min > np.iinfo(np.int64).min and c_max < np.iinfo(np.int64).max:\n",
        "                    df[col] = df[col].astype(np.int64)  \n",
        "            else:\n",
        "                if c_min > np.finfo(np.float16).min and c_max < np.finfo(np.float16).max:\n",
        "                    df[col] = df[col].astype(np.float16)\n",
        "                elif c_min > np.finfo(np.float32).min and c_max < np.finfo(np.float32).max:\n",
        "                    df[col] = df[col].astype(np.float32)\n",
        "                else:\n",
        "                    df[col] = df[col].astype(np.float64)\n",
        "        else:\n",
        "            df[col] = df[col].astype('category')\n",
        "    \n",
        "    end_mem = df.memory_usage().sum() / 1024**2\n",
        "    print('Memory usage after optimization is: {:.2f} MB'.format(end_mem))\n",
        "    print('Decreased by {:.1f}%'.format(100 * (start_mem - end_mem) / start_mem))\n",
        "    \n",
        "    return df"
      ]
    },
    {
      "cell_type": "code",
      "execution_count": 7,
      "metadata": {
        "id": "AbFicL6jkg_I"
      },
      "outputs": [],
      "source": [
        "#Loading data \n",
        "X_t = pd.read_csv('/content/drive/MyDrive/DataSets/Pre_Processed_train.csv')"
      ]
    },
    {
      "cell_type": "code",
      "execution_count": 8,
      "metadata": {
        "id": "yJ74rLfinBLZ",
        "colab": {
          "base_uri": "https://localhost:8080/"
        },
        "outputId": "f654037c-5bc2-47ff-92ad-bf020169c813"
      },
      "outputs": [
        {
          "output_type": "stream",
          "name": "stdout",
          "text": [
            "Memory usage of dataframe is 514.61 MB\n",
            "Memory usage after optimization is: 128.45 MB\n",
            "Decreased by 75.0%\n"
          ]
        }
      ],
      "source": [
        "#Applying user-defined function to reduce memory of the dataset:\n",
        "data=reduce_mem_usage(X_t)"
      ]
    },
    {
      "cell_type": "code",
      "execution_count": 9,
      "metadata": {
        "id": "_vfXBvgmnFYj"
      },
      "outputs": [],
      "source": [
        "X = data.drop(['y_tr'],axis=1)\n",
        "y = data.y_tr"
      ]
    },
    {
      "cell_type": "markdown",
      "source": [
        "**FUNCTION FOR SPLITTING TRAIN DATA BASED ON TIME INTO TRAIN AND VALIDATION SETS**"
      ],
      "metadata": {
        "id": "D-9kHbaxLcfp"
      }
    },
    {
      "cell_type": "code",
      "execution_count": 10,
      "metadata": {
        "id": "cKEFur8RN6Fj"
      },
      "outputs": [],
      "source": [
        "#https://stackoverflow.com/questions/50879915/splitting-data-using-time-based-splitting-in-test-and-train-datasets\n",
        "\n",
        "def time_based_splitting(Data):\n",
        "  \n",
        "  X = Data.year_account_created\n",
        "  Y = Data.month_account_created\n",
        "\n",
        "  train_start_index = 0\n",
        "  train_end_index = Data[(X==2010) & (Y==12)].index[-1]+1\n",
        "  train_index = []\n",
        "  test_index = []\n",
        "\n",
        "  for i in range(2011,2015):\n",
        "    if (i!=2014):\n",
        "      for j in range(2,13,2):\n",
        "        test_start_index = train_end_index \n",
        "        test_end_index = Data[(X==i)&(Y==j)].index[-1]+1\n",
        "        train_index.append(np.arange(train_start_index,train_end_index))\n",
        "        test_index.append(np.arange(test_start_index,test_end_index))\n",
        "        train_end_index = test_end_index\n",
        "    else:\n",
        "      for j in range(2,7,2):\n",
        "        test_start_index = train_end_index \n",
        "        test_end_index = Data[(X==i)&(Y==j)].index[-1]+1\n",
        "        train_index.append(np.arange(train_start_index,train_end_index))\n",
        "        test_index.append(np.arange(test_start_index,test_end_index))\n",
        "        train_end_index = test_end_index\n",
        "  \n",
        "  return train_index,test_index"
      ]
    },
    {
      "cell_type": "code",
      "execution_count": 11,
      "metadata": {
        "id": "bdJzO7ZBdvJE"
      },
      "outputs": [],
      "source": [
        "train_index,test_index = time_based_splitting(X)\n",
        "Xc = sparse.csr_matrix(X.to_numpy())"
      ]
    },
    {
      "cell_type": "markdown",
      "metadata": {
        "id": "KJqCgTArKD84"
      },
      "source": [
        "#**LOGISTIC REGRESSION**"
      ]
    },
    {
      "cell_type": "code",
      "execution_count": 12,
      "metadata": {
        "colab": {
          "base_uri": "https://localhost:8080/"
        },
        "id": "cqvdGffFKDKe",
        "outputId": "e8ca02d9-6943-49af-8776-4f19a94df5c0"
      },
      "outputs": [
        {
          "output_type": "stream",
          "name": "stdout",
          "text": [
            "Hypertuning Logistic Regression Classifier with \"L1\" Regularization for best parameters:\n",
            "\n"
          ]
        },
        {
          "output_type": "stream",
          "name": "stderr",
          "text": [
            " 25%|██▌       | 1/4 [07:11<21:34, 431.64s/it]"
          ]
        },
        {
          "output_type": "stream",
          "name": "stdout",
          "text": [
            "\n",
            "For alpha : 0.001, NDCG Score : 0.776857806440388\n"
          ]
        },
        {
          "output_type": "stream",
          "name": "stderr",
          "text": [
            "\r 50%|█████     | 2/4 [15:28<15:39, 469.85s/it]"
          ]
        },
        {
          "output_type": "stream",
          "name": "stdout",
          "text": [
            "\n",
            "For alpha : 0.01, NDCG Score : 0.777312539707233\n"
          ]
        },
        {
          "output_type": "stream",
          "name": "stderr",
          "text": [
            "\r 75%|███████▌  | 3/4 [26:35<09:20, 560.08s/it]"
          ]
        },
        {
          "output_type": "stream",
          "name": "stdout",
          "text": [
            "\n",
            "For alpha : 0.1, NDCG Score : 0.7800229350242146\n"
          ]
        },
        {
          "output_type": "stream",
          "name": "stderr",
          "text": [
            "100%|██████████| 4/4 [42:00<00:00, 630.00s/it]"
          ]
        },
        {
          "output_type": "stream",
          "name": "stdout",
          "text": [
            "\n",
            "For alpha : 1, NDCG Score : 0.7804860510833629\n",
            "\n",
            "The Best parameter (alpha) is 1 with an NDCG score of 0.7804860510833629\n"
          ]
        },
        {
          "output_type": "stream",
          "name": "stderr",
          "text": [
            "\n"
          ]
        }
      ],
      "source": [
        "#Building Logistic Regression model with 'L1' Regularization\n",
        "from sklearn.linear_model import LogisticRegression\n",
        "from sklearn.linear_model import SGDClassifier\n",
        "from tqdm import tqdm\n",
        "\n",
        "alpha = [10 ** x for x in range(-3, 1)]\n",
        "init_score_l1 = 0\n",
        "print('Hypertuning Logistic Regression Classifier with \"L1\" Regularization for best parameters:\\n')\n",
        "for i in tqdm(alpha):\n",
        "    scores = [] \n",
        "    for tr,te in zip(train_index,test_index):\n",
        "      lr = LogisticRegression(penalty='l1',C=i,solver='saga')\n",
        "      lr.fit(Xc[tr],y[tr])\n",
        "      prob_lr = lr.predict_proba(Xc[te])\n",
        "      score_lr = ndcg_score(y[te], prob_lr, k=5)\n",
        "      scores.append(score_lr)\n",
        "    if (np.mean(scores) > init_score_l1):\n",
        "        alpha_best_l1 = i \n",
        "        init_score_l1 = np.mean(scores)\n",
        "    print('\\nFor alpha : {0}, NDCG Score : {1}'.format(i,np.mean(scores)))\n",
        "\n",
        "print('\\nThe Best parameter (alpha) is {} with an NDCG score of {}'.format(alpha_best_l1,init_score_l1))"
      ]
    },
    {
      "cell_type": "code",
      "execution_count": 15,
      "metadata": {
        "id": "8Ebm1YK9XzWx"
      },
      "outputs": [],
      "source": [
        "#Training the Logistic Regression model with L1 Regularization with best alpha and storing into a pickle file:\n",
        "from sklearn.linear_model import LogisticRegression\n",
        "lr_clf_l1 = LogisticRegression(penalty='l1',C=alpha_best_l1,solver='saga')\n",
        "lr_clf_l1.fit(Xc,y)\n",
        "pickle.dump(lr_clf_l1,open('/content/drive/MyDrive/DataSets/LOGISTIC_REGRESSION_MODEL_L1','wb'))"
      ]
    },
    {
      "cell_type": "markdown",
      "metadata": {
        "id": "lZoWzZB_cp8M"
      },
      "source": [
        "#**DECISION TREE MODEL**"
      ]
    },
    {
      "cell_type": "code",
      "execution_count": null,
      "metadata": {
        "colab": {
          "base_uri": "https://localhost:8080/"
        },
        "id": "vu-t90vJaz-t",
        "outputId": "b646a5e8-49c2-4ce0-bb33-74c5e26b0c47"
      },
      "outputs": [
        {
          "name": "stdout",
          "output_type": "stream",
          "text": [
            "Hypertuning Decision tree Classifier for best parameters:\n",
            "\n",
            "Depth of tree : 1\n",
            "    min_sample_split : 5, \n",
            "    NDCG Score : 0.7825966093807373\n",
            "    -------------------\n",
            "    min_sample_split : 10, \n",
            "    NDCG Score : 0.7825966093807373\n",
            "    -------------------\n",
            "    min_sample_split : 50, \n",
            "    NDCG Score : 0.7825966093807373\n",
            "    -------------------\n",
            "    min_sample_split : 100, \n",
            "    NDCG Score : 0.7825966093807373\n",
            "    -------------------\n",
            "Depth of tree : 2\n",
            "    min_sample_split : 5, \n",
            "    NDCG Score : 0.7879962617785936\n",
            "    -------------------\n",
            "    min_sample_split : 10, \n",
            "    NDCG Score : 0.7879962617785936\n",
            "    -------------------\n",
            "    min_sample_split : 50, \n",
            "    NDCG Score : 0.7879962617785936\n",
            "    -------------------\n",
            "    min_sample_split : 100, \n",
            "    NDCG Score : 0.7879962617785936\n",
            "    -------------------\n",
            "Depth of tree : 3\n",
            "    min_sample_split : 5, \n",
            "    NDCG Score : 0.7903271501717037\n",
            "    -------------------\n",
            "    min_sample_split : 10, \n",
            "    NDCG Score : 0.7903271501717037\n",
            "    -------------------\n",
            "    min_sample_split : 50, \n",
            "    NDCG Score : 0.7903271501717037\n",
            "    -------------------\n",
            "    min_sample_split : 100, \n",
            "    NDCG Score : 0.7903271501717037\n",
            "    -------------------\n",
            "Depth of tree : 4\n",
            "    min_sample_split : 5, \n",
            "    NDCG Score : 0.7941402402086555\n",
            "    -------------------\n",
            "    min_sample_split : 10, \n",
            "    NDCG Score : 0.7941402402086555\n",
            "    -------------------\n",
            "    min_sample_split : 50, \n",
            "    NDCG Score : 0.7941746392348896\n",
            "    -------------------\n",
            "    min_sample_split : 100, \n",
            "    NDCG Score : 0.7942016198241258\n",
            "    -------------------\n",
            "Depth of tree : 5\n",
            "    min_sample_split : 5, \n",
            "    NDCG Score : 0.7957448745512695\n",
            "    -------------------\n",
            "    min_sample_split : 10, \n",
            "    NDCG Score : 0.795741859156676\n",
            "    -------------------\n",
            "    min_sample_split : 50, \n",
            "    NDCG Score : 0.7963848290487121\n",
            "    -------------------\n",
            "    min_sample_split : 100, \n",
            "    NDCG Score : 0.7968146401901692\n",
            "    -------------------\n",
            "Depth of tree : 6\n",
            "    min_sample_split : 5, \n",
            "    NDCG Score : 0.7939288185772619\n",
            "    -------------------\n",
            "    min_sample_split : 10, \n",
            "    NDCG Score : 0.7937696969270059\n",
            "    -------------------\n",
            "    min_sample_split : 50, \n",
            "    NDCG Score : 0.7949091871039832\n",
            "    -------------------\n",
            "    min_sample_split : 100, \n",
            "    NDCG Score : 0.7958031762602971\n",
            "    -------------------\n",
            "\n",
            "The Best parameters are: \n",
            "max_depth: 5 \n",
            "min_sample_split: 100\n",
            "with an NDCG score of 0.7968146401901692\n"
          ]
        }
      ],
      "source": [
        "#Building Decision Tree model\n",
        "from sklearn.tree import DecisionTreeClassifier\n",
        "from tqdm import tqdm\n",
        "max_depth=[1,2,3,4,5,6]\n",
        "min_samples_split=[5,10,50,100]\n",
        "\n",
        "init_score_dt = 0\n",
        "print('Hypertuning Decision tree Classifier for best parameters:\\n')\n",
        "for i in max_depth:\n",
        "    print(\"Depth of tree : {}\".format(i))\n",
        "    for j in min_samples_split:\n",
        "      scores = [] \n",
        "      for tr,te in zip(train_index,test_index):     \n",
        "        d_tree = DecisionTreeClassifier(criterion='gini', max_depth=i , min_samples_split= j,random_state=42)\n",
        "        d_tree.fit(Xc[tr],y[tr])\n",
        "        prob_dt = d_tree.predict_proba(Xc[te])\n",
        "        score_dt = ndcg_score(y[te], prob_dt, k=5)\n",
        "        scores.append(score_dt)\n",
        "      if (np.mean(scores) > init_score_dt):\n",
        "          depth_dt, min_sample = i , j\n",
        "          init_score_dt = np.mean(scores)\n",
        "      print (\"    min_sample_split : {}, \\n    NDCG Score : {}\\n    -------------------\".format(j,np.mean(scores)))\n",
        "\n",
        "print('\\nThe Best parameters are: \\nmax_depth: {} \\nmin_sample_split: {}'.format(depth_dt, min_sample))\n",
        "print('with an NDCG score of {}'.format(init_score_dt))"
      ]
    },
    {
      "cell_type": "code",
      "execution_count": null,
      "metadata": {
        "id": "UZzx5wWdHy_n"
      },
      "outputs": [],
      "source": [
        "#Training the Decision Tree Classifier with best parameters and storing into a pickle file:\n",
        "from sklearn.tree import DecisionTreeClassifier\n",
        "dt_clf = DecisionTreeClassifier(criterion='gini', max_depth= depth_dt , min_samples_split= min_sample,random_state=42 )\n",
        "dt_clf.fit(Xc,y)\n",
        "pickle.dump(dt_clf,open('/content/drive/MyDrive/DataSets/DECISION_TREE_MODEL','wb'))"
      ]
    },
    {
      "cell_type": "markdown",
      "metadata": {
        "id": "rjl8QDSU3tua"
      },
      "source": [
        "#**RANDOM FOREST**"
      ]
    },
    {
      "cell_type": "code",
      "execution_count": null,
      "metadata": {
        "colab": {
          "base_uri": "https://localhost:8080/"
        },
        "id": "MQID1Bgv3yvO",
        "outputId": "c5d6c562-8fb9-44fa-a511-e6d3dcf29421"
      },
      "outputs": [
        {
          "name": "stdout",
          "output_type": "stream",
          "text": [
            "Hypertuning Random forest Classifier for best parameters:\n",
            "\n",
            "Depth of tree : 1\n",
            "    n_estimators : 5, \n",
            "    NDCG Score : 0.7820134759053464\n",
            "    -------------------\n",
            "    n_estimators : 10, \n",
            "    NDCG Score : 0.781683971769842\n",
            "    -------------------\n",
            "    n_estimators : 50, \n",
            "    NDCG Score : 0.7830131727131466\n",
            "    -------------------\n",
            "    n_estimators : 100, \n",
            "    NDCG Score : 0.782760484666564\n",
            "    -------------------\n",
            "Depth of tree : 2\n",
            "    n_estimators : 5, \n",
            "    NDCG Score : 0.7835514650179112\n",
            "    -------------------\n",
            "    n_estimators : 10, \n",
            "    NDCG Score : 0.786447278480482\n",
            "    -------------------\n",
            "    n_estimators : 50, \n",
            "    NDCG Score : 0.7861985752997911\n",
            "    -------------------\n",
            "    n_estimators : 100, \n",
            "    NDCG Score : 0.7864526402828892\n",
            "    -------------------\n",
            "Depth of tree : 3\n",
            "    n_estimators : 5, \n",
            "    NDCG Score : 0.7873982277590494\n",
            "    -------------------\n",
            "    n_estimators : 10, \n",
            "    NDCG Score : 0.7880024382682824\n",
            "    -------------------\n",
            "    n_estimators : 50, \n",
            "    NDCG Score : 0.7886135309986706\n",
            "    -------------------\n",
            "    n_estimators : 100, \n",
            "    NDCG Score : 0.789694358956939\n",
            "    -------------------\n",
            "Depth of tree : 4\n",
            "    n_estimators : 5, \n",
            "    NDCG Score : 0.7868813232422679\n",
            "    -------------------\n",
            "    n_estimators : 10, \n",
            "    NDCG Score : 0.7891505432264097\n",
            "    -------------------\n",
            "    n_estimators : 50, \n",
            "    NDCG Score : 0.7912345108472837\n",
            "    -------------------\n",
            "    n_estimators : 100, \n",
            "    NDCG Score : 0.7918976737807649\n",
            "    -------------------\n",
            "Depth of tree : 5\n",
            "    n_estimators : 5, \n",
            "    NDCG Score : 0.7880062178437506\n",
            "    -------------------\n",
            "    n_estimators : 10, \n",
            "    NDCG Score : 0.7893500218710333\n",
            "    -------------------\n",
            "    n_estimators : 50, \n",
            "    NDCG Score : 0.7916503902373097\n",
            "    -------------------\n",
            "    n_estimators : 100, \n",
            "    NDCG Score : 0.7919346507962635\n",
            "    -------------------\n",
            "Depth of tree : 6\n",
            "    n_estimators : 5, \n",
            "    NDCG Score : 0.7889889944496404\n",
            "    -------------------\n",
            "    n_estimators : 10, \n",
            "    NDCG Score : 0.7912324169811413\n",
            "    -------------------\n",
            "    n_estimators : 50, \n",
            "    NDCG Score : 0.7926534585890521\n",
            "    -------------------\n",
            "    n_estimators : 100, \n",
            "    NDCG Score : 0.7926084187697959\n",
            "    -------------------\n",
            "\n",
            "The Best parameters are: \n",
            "max_depth: 6 \n",
            "n_estimators: 50\n",
            "with an NDCG score of 0.7926534585890521\n"
          ]
        }
      ],
      "source": [
        "#Building Random forest model\n",
        "from sklearn.ensemble import RandomForestClassifier\n",
        "\n",
        "n_estimator= [5,10,50,100] \n",
        "max_depth= [1,2,3,4,5,6]\n",
        "init_score_rf = 0\n",
        "print('Hypertuning Random forest Classifier for best parameters:\\n')\n",
        "\n",
        "for i in max_depth:\n",
        "    print(\"Depth of tree : {}\".format(i))\n",
        "    for j in (n_estimator):\n",
        "      scores = [] \n",
        "      for tr,te in zip(train_index,test_index):\n",
        "        clf_rf = RandomForestClassifier(n_estimators=j, criterion='gini', max_depth=i, random_state=42, n_jobs=-1)\n",
        "        clf_rf.fit(Xc[tr],y[tr])\n",
        "        prob_rf = clf_rf.predict_proba(Xc[te])\n",
        "        score_rf = ndcg_score(y[te], prob_rf, k=5)\n",
        "        scores.append(score_rf)\n",
        "      if (np.mean(scores) > init_score_rf):\n",
        "          depth_rf, n_estimator_rf = i , j\n",
        "          init_score_rf = np.mean(scores)\n",
        "      print (\"    n_estimators : {}, \\n    NDCG Score : {}\\n    -------------------\".format(j,np.mean(scores)))\n",
        "\n",
        "print('\\nThe Best parameters are: \\nmax_depth: {} \\nn_estimators: {}'.format(depth_rf, n_estimator_rf))\n",
        "print('with an NDCG score of {}'.format(init_score_rf))"
      ]
    },
    {
      "cell_type": "code",
      "execution_count": null,
      "metadata": {
        "id": "49BR6PTIEqzK"
      },
      "outputs": [],
      "source": [
        "#Training the Random Forest Classifier with best parameters and storing into a pickle file:\n",
        "from sklearn.ensemble import RandomForestClassifier\n",
        "clf_rf = RandomForestClassifier(n_estimators= n_estimator_rf, criterion='gini', max_depth=depth_rf, random_state=42, n_jobs=-1)\n",
        "clf_rf.fit(X,y)\n",
        "pickle.dump(clf_rf,open('/content/drive/MyDrive/DataSets/RANDOM_FOREST_MODEL','wb'))"
      ]
    },
    {
      "cell_type": "markdown",
      "metadata": {
        "id": "hYphHX2TdRbV"
      },
      "source": [
        "#**XG BOOST MODEL**"
      ]
    },
    {
      "cell_type": "code",
      "source": [
        "#Building XG Boost model \n",
        "from xgboost import XGBClassifier\n",
        "from tqdm import tqdm\n",
        "n_estimator= [5,10,50,100] \n",
        "max_depth= [1,2,3,4,5,6]\n",
        "\n",
        "init_score_xgb = 0\n",
        "print('Hypertuning XG Boost Classifier for best parameters:\\n')\n",
        "for i in max_depth:\n",
        "    print(\"Depth of tree : {}\".format(i))\n",
        "    for j in n_estimator: \n",
        "      scores = [] \n",
        "      for tr,te in zip(train_index,test_index):        \n",
        "        xgb = XGBClassifier(max_depth=i, n_estimators=j,random_state=42,tree_method=\"gpu_hist\")\n",
        "        xgb.fit(Xc[tr],y[tr])\n",
        "        prob_xgb = xgb.predict_proba(Xc[te])\n",
        "        score_xgb = ndcg_score(y[te], prob_xgb, k=5)\n",
        "        scores.append(score_xgb)\n",
        "      if (np.mean(scores) > init_score_xgb):\n",
        "          depth_xgb, n_estimator_xgb = i , j\n",
        "          init_score_xgb = np.mean(scores)\n",
        "      print (\"    n_estimators : {}, \\n    NDCG Score : {}\\n    -------------------\".format(j,np.mean(scores)))\n",
        "\n",
        "print('\\nThe Best parameters are: \\nmax_depth: {} \\nn_estimators: {}'.format(depth_xgb, n_estimator_xgb))\n",
        "print('with an NDCG score of {}'.format(init_score_xgb))       "
      ],
      "metadata": {
        "colab": {
          "base_uri": "https://localhost:8080/"
        },
        "id": "YfDpmV7F4gaW",
        "outputId": "08bcec59-4564-4a3c-a720-cb95c2a7e822"
      },
      "execution_count": null,
      "outputs": [
        {
          "output_type": "stream",
          "name": "stdout",
          "text": [
            "Hypertuning XG Boost Classifier for best parameters:\n",
            "\n",
            "Depth of tree : 1\n",
            "    n_estimators : 5, \n",
            "    NDCG Score : 0.7860298291173817\n",
            "    -------------------\n",
            "    n_estimators : 10, \n",
            "    NDCG Score : 0.7869067056582166\n",
            "    -------------------\n",
            "    n_estimators : 50, \n",
            "    NDCG Score : 0.7902346855273809\n",
            "    -------------------\n",
            "    n_estimators : 100, \n",
            "    NDCG Score : 0.7944831226537616\n",
            "    -------------------\n",
            "Depth of tree : 2\n",
            "    n_estimators : 5, \n",
            "    NDCG Score : 0.7909886350295294\n",
            "    -------------------\n",
            "    n_estimators : 10, \n",
            "    NDCG Score : 0.7923871007343758\n",
            "    -------------------\n",
            "    n_estimators : 50, \n",
            "    NDCG Score : 0.7985613386099178\n",
            "    -------------------\n",
            "    n_estimators : 100, \n",
            "    NDCG Score : 0.8008632187736688\n",
            "    -------------------\n",
            "Depth of tree : 3\n",
            "    n_estimators : 5, \n",
            "    NDCG Score : 0.7952658867174662\n",
            "    -------------------\n",
            "    n_estimators : 10, \n",
            "    NDCG Score : 0.796773477682551\n",
            "    -------------------\n",
            "    n_estimators : 50, \n",
            "    NDCG Score : 0.8016539425426432\n",
            "    -------------------\n",
            "    n_estimators : 100, \n",
            "    NDCG Score : 0.8020970330899676\n",
            "    -------------------\n",
            "Depth of tree : 4\n",
            "    n_estimators : 5, \n",
            "    NDCG Score : 0.7980134896833794\n",
            "    -------------------\n",
            "    n_estimators : 10, \n",
            "    NDCG Score : 0.7995807163733495\n",
            "    -------------------\n",
            "    n_estimators : 50, \n",
            "    NDCG Score : 0.8016929448583794\n",
            "    -------------------\n",
            "    n_estimators : 100, \n",
            "    NDCG Score : 0.8014521206624811\n",
            "    -------------------\n",
            "Depth of tree : 5\n",
            "    n_estimators : 5, \n",
            "    NDCG Score : 0.7988305363405027\n",
            "    -------------------\n",
            "    n_estimators : 10, \n",
            "    NDCG Score : 0.8004489086409509\n",
            "    -------------------\n",
            "    n_estimators : 50, \n",
            "    NDCG Score : 0.8010562221083133\n",
            "    -------------------\n",
            "    n_estimators : 100, \n",
            "    NDCG Score : 0.8001192025941257\n",
            "    -------------------\n",
            "Depth of tree : 6\n",
            "    n_estimators : 5, \n",
            "    NDCG Score : 0.7984716563489077\n",
            "    -------------------\n",
            "    n_estimators : 10, \n",
            "    NDCG Score : 0.7997010507476716\n",
            "    -------------------\n",
            "    n_estimators : 50, \n",
            "    NDCG Score : 0.7998060614247681\n",
            "    -------------------\n",
            "    n_estimators : 100, \n",
            "    NDCG Score : 0.7995055603366259\n",
            "    -------------------\n",
            "\n",
            "The Best parameters are: \n",
            "max_depth: 3 \n",
            "n_estimators: 100\n",
            "with an NDCG score of 0.8020970330899676\n"
          ]
        }
      ]
    },
    {
      "cell_type": "code",
      "source": [
        "#Training the XG Boost Classifier with best parameters and storing into a pickle file:\n",
        "from xgboost import XGBClassifier\n",
        "xgb = XGBClassifier(max_depth=depth_xgb, n_estimators= n_estimator_xgb,random_state=42,tree_method=\"gpu_hist\")\n",
        "xgb.fit(Xc,y)\n",
        "#pickle.dump(xgb,open('/content/drive/MyDrive/DataSets/XGBOOST_MODEL','wb'))"
      ],
      "metadata": {
        "colab": {
          "base_uri": "https://localhost:8080/"
        },
        "id": "Q1HM25Rl4uzD",
        "outputId": "65ef29a8-ca49-4042-e88b-d317bf6685af"
      },
      "execution_count": null,
      "outputs": [
        {
          "output_type": "execute_result",
          "data": {
            "text/plain": [
              "XGBClassifier(objective='multi:softprob', random_state=42,\n",
              "              tree_method='gpu_hist')"
            ]
          },
          "metadata": {},
          "execution_count": 21
        }
      ]
    },
    {
      "cell_type": "code",
      "source": [
        "feat_importance = pd.DataFrame(list(zip(X.columns,xgb.feature_importances_)),columns=['Feature','Importance'])\n",
        "feat_importance.to_csv('/content/drive/MyDrive/DataSets/Feature_importance.csv',index=False)"
      ],
      "metadata": {
        "id": "Osps0PgxEuHG"
      },
      "execution_count": null,
      "outputs": []
    },
    {
      "cell_type": "code",
      "source": [
        "G = feat_importance.sort_values(by=['Importance'],ascending = False)[:25]"
      ],
      "metadata": {
        "id": "tUJbBqOKTgOi"
      },
      "execution_count": null,
      "outputs": []
    },
    {
      "cell_type": "code",
      "source": [
        "plt.figure(figsize = (8,10))\n",
        "sns.barplot(x='Importance', \n",
        "            y=\"Feature\", \n",
        "            data=G)\n",
        "plt.title(\"Top 25 Features\",fontweight='bold')\n",
        "plt.show()"
      ],
      "metadata": {
        "colab": {
          "base_uri": "https://localhost:8080/",
          "height": 621
        },
        "id": "dRTKpMLZiBby",
        "outputId": "058ee6ff-2214-49e3-986f-482ee299de3a"
      },
      "execution_count": null,
      "outputs": [
        {
          "output_type": "display_data",
          "data": {
            "text/plain": [
              "<Figure size 576x720 with 1 Axes>"
            ],
            "image/png": "[encoded data removed]"
          },
          "metadata": {
            "needs_background": "light"
          }
        }
      ]
    },
    {
      "cell_type": "markdown",
      "source": [
        "#**RESULTS SUMMARY:**"
      ],
      "metadata": {
        "id": "2RiXy41nM29N"
      }
    },
    {
      "cell_type": "code",
      "source": [
        "from prettytable import PrettyTable\n",
        "PT = PrettyTable()\n",
        "PT.field_names = [\"Model\",\"Best Parameter\", \"NDCG Score\"]\n",
        "PT.add_row([\"XG Boost Model\",\"max_depth: 3,     n_estimators: 100\", \"0.802097\"])\n",
        "PT.add_row([\"Random Forest Model\",\"max_depth: 6,      n_estimators: 50\", \"0.792653\"])\n",
        "PT.add_row([\"Decision Tree Model\",\"max_depth: 5, min_sample_split: 100\",\"0.796815\"])\n",
        "PT.add_row([\"Logistic Regression (L1 Penalty) Model\",\"alpha : 1\",\"0.780486\"])\n",
        "print(PT)"
      ],
      "metadata": {
        "colab": {
          "base_uri": "https://localhost:8080/"
        },
        "id": "3CsF2aNhM_9z",
        "outputId": "384a1290-bc02-4b7e-a8f7-b7418d4dff22"
      },
      "execution_count": 14,
      "outputs": [
        {
          "output_type": "stream",
          "name": "stdout",
          "text": [
            "+----------------------------------------+-------------------------------------+------------+\n",
            "|                 Model                  |            Best Parameter           | NDCG Score |\n",
            "+----------------------------------------+-------------------------------------+------------+\n",
            "|             XG Boost Model             | max_depth: 3,     n_estimators: 100 |  0.802097  |\n",
            "|          Random Forest Model           | max_depth: 6,      n_estimators: 50 |  0.792653  |\n",
            "|          Decision Tree Model           | max_depth: 5, min_sample_split: 100 |  0.796815  |\n",
            "| Logistic Regression (L1 Penalty) Model |              alpha : 1              |  0.780486  |\n",
            "+----------------------------------------+-------------------------------------+------------+\n"
          ]
        }
      ]
    }
  ],
  "metadata": {
    "colab": {
      "collapsed_sections": [],
      "provenance": []
    },
    "gpuClass": "standard",
    "kernelspec": {
      "display_name": "Python 3",
      "name": "python3"
    },
    "language_info": {
      "name": "python"
    }
  },
  "nbformat": 4,
  "nbformat_minor": 0
}